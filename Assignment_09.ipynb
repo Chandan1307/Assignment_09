{
 "cells": [
  {
   "cell_type": "markdown",
   "id": "28c8202d-f612-4757-9bf6-c8a9b93c9f73",
   "metadata": {},
   "source": [
    "Q1. What is Abstraction in OOps? Explain with an example."
   ]
  },
  {
   "cell_type": "markdown",
   "id": "d2910f27-0ce1-4c70-bce6-30375843d0fa",
   "metadata": {},
   "source": [
    "Abstraction in object-oriented programming (OOP) refers to the concept of hiding the implementation details of a class or an object and presenting only the necessary information to the outside world. The goal of abstraction is to simplify the complexity of the system by creating a clear interface between the different components of the system."
   ]
  },
  {
   "cell_type": "code",
   "execution_count": 8,
   "id": "e0fd6cc7-4b26-44db-8185-f3da2e23fd07",
   "metadata": {},
   "outputs": [],
   "source": [
    "from abc import ABC, abstractmethod\n",
    "\n",
    "class Shape(ABC):\n",
    "    @abstractmethod\n",
    "    def draw(self):\n",
    "        pass\n",
    "\n",
    "class Circle(Shape):\n",
    "    def draw(self):\n",
    "        print(\"Drawing a Circle\")\n",
    "\n",
    "class Square(Shape):\n",
    "    def draw(self):\n",
    "        print(\"Drawing a Square\")"
   ]
  },
  {
   "cell_type": "markdown",
   "id": "d4d19ad1-e389-4e66-bb1c-e335ebe7f6c4",
   "metadata": {},
   "source": [
    "Q2. Differentiate between Abstraction and Encapsulation. Explain with an example."
   ]
  },
  {
   "cell_type": "markdown",
   "id": "25abe837-de47-414f-a62c-7a8c620647a3",
   "metadata": {},
   "source": [
    "# Abstraction\n",
    "\n",
    "Abstraction and encapsulation are two important concepts in object-oriented programming (OOP). While both concepts are related to information hiding, they have different goals and are achieved through different means.\n",
    "\n",
    "Abstraction is the process of hiding the implementation details of a class or an object and presenting only the necessary information to the outside world. The goal of abstraction is to simplify the complexity of the system by creating a clear interface between the different components of the system."
   ]
  },
  {
   "cell_type": "markdown",
   "id": "18d65d19-c081-4f3d-9910-e06059530182",
   "metadata": {},
   "source": [
    "# Encapsulation\n",
    "\n",
    "Encapsulation, on the other hand, refers to the bundling of data and behavior within a single unit, or object. Encapsulation provides a way to hide the implementation details of a class or object, including the state (data) and behavior (methods), from the outside world and to ensure that the internal state of an object cannot be changed accidentally or maliciously.\n"
   ]
  },
  {
   "cell_type": "code",
   "execution_count": null,
   "id": "143c7409-fa66-4384-b5c5-d6c59909f951",
   "metadata": {},
   "outputs": [],
   "source": []
  },
  {
   "cell_type": "markdown",
   "id": "4251f46c-a793-47cf-be3e-e4f4d022e91f",
   "metadata": {},
   "source": [
    "Q3. What is abc module in python? Why is it used?"
   ]
  },
  {
   "cell_type": "markdown",
   "id": "0bc49b9f-4403-4d29-bdca-b4d409dcacd5",
   "metadata": {},
   "source": [
    "# abc module\n",
    "The 'abc' module in Python library provides the infrastructure for defining custom abstract base classes. 'abc' works by marking methods of the base class as abstract. This is done by @absttractmethod decorator.\n",
    "\n",
    "\n",
    "An abstract class is used if you want to provide a common, implemented functionality among all the implementations of the component. Abstract classes will allow you to partially implement your class, whereas interfaces would have no implementation for any members whatsoever."
   ]
  },
  {
   "cell_type": "markdown",
   "id": "077e372d-40de-49d6-befa-271dccc2bb85",
   "metadata": {},
   "source": [
    "Q4. How can we achieve data abstraction?"
   ]
  },
  {
   "cell_type": "markdown",
   "id": "10bfe1c3-9587-4d20-908e-9d8123fe8ad1",
   "metadata": {},
   "source": [
    "# Achieve data abstraction\n",
    "Data Abstraction in Python can be achieved through creating abstract classes and inheriting them later. Before discussing what abstract classes are, let us have a brief introduction of inheritance. Inheritance in OOP is a way through which one class inherits the attributes and methods of another class."
   ]
  },
  {
   "cell_type": "markdown",
   "id": "cac18a41-c49f-4194-9db2-b124329b737b",
   "metadata": {},
   "source": [
    "Q5. Can we create an instance of an abstract class? Explain your answer."
   ]
  },
  {
   "cell_type": "markdown",
   "id": "f6e11131-bf12-416e-a4f0-e90dfccd9c69",
   "metadata": {},
   "source": [
    "Abstract classes cannot be instantiated, but they can be subclassed. When an abstract class is subclassed, the subclass usually provides implementations for all of the abstract methods in its parent class. However, if it does not, then the subclass must also be declared abstract ."
   ]
  }
 ],
 "metadata": {
  "kernelspec": {
   "display_name": "Python 3 (ipykernel)",
   "language": "python",
   "name": "python3"
  },
  "language_info": {
   "codemirror_mode": {
    "name": "ipython",
    "version": 3
   },
   "file_extension": ".py",
   "mimetype": "text/x-python",
   "name": "python",
   "nbconvert_exporter": "python",
   "pygments_lexer": "ipython3",
   "version": "3.10.8"
  }
 },
 "nbformat": 4,
 "nbformat_minor": 5
}
